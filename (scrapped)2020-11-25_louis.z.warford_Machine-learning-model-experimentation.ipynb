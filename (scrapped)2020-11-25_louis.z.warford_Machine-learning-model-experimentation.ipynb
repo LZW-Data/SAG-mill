{
 "cells": [
  {
   "cell_type": "markdown",
   "metadata": {},
   "source": [
    "Several things of note:\n",
    "* There are 2 target values to an equal or larger range of feature values.\n",
    "    * Target values are a 1x2 array, whereas features will depend on our selection of time intervals and will be of the form Nx6; where N is $\\frac{\\Delta t}{\\delta t}$, $\\Delta T$, how far back in time before the 'present' we take values from, and $\\delta t$ the time interval length (1 min. in our case).\n",
    "        * This means that we have a hyperparameter $\\Delta T$ that we need to decide on how we tune.\n",
    "            * The most apparent ways we can do this are:\n",
    "                1. We simply take the best performing overall value for it; this being after fitting for each potential value and potential data set and comparing. (i.e. Grid search)\n",
    "                2. We use another supervised model to predict the best performing hyper-parameter given the feature data. \n",
    "                    * This could also involve deciding the parameters of a weighting function that gives a weight as a function of $n \\cdot \\delta t$, where n is the interval number.  \n",
    "                    * The reason to do this would be that potentially the current conditions will determine how far in the past  and how much predictive power the data holds. (e.g. A high current speed may mean that only very recent data is relevant.)\n",
    "                3. We take an arbitrary number we decide via some intuitive reason.\n",
    "            \n",
    "            * This will likely be unnecessary for the Neural networks as they will likely account for the weighting if we feed it the entire intervals data.\n",
    "            \n",
    "            \n",
    "\n",
    "* Potential models we will try to work with are:\n",
    "    * Linear regression:\n",
    "        * This is basic, but will be explored jout for comparison.\n",
    "        \n",
    "    * Random Forest regressor\n",
    "        * \n",
    "        \n",
    "    * Neural networks:\n",
    "        * Artificial Neural network.\n",
    "        * Recurrent Neural network.\n",
    "        * Potentially deep variants of the above.\n",
    "  \n",
    "* "
   ]
  },
  {
   "cell_type": "markdown",
   "metadata": {},
   "source": [
    "First we read in the data to be used to develop the models."
   ]
  },
  {
   "cell_type": "code",
   "execution_count": 158,
   "metadata": {},
   "outputs": [],
   "source": [
    "import pandas as pd\n",
    "import numpy as np\n",
    "\n",
    "# Load data.\n",
    "df_train = pd.read_csv(\"../../../data/sag_data_train.csv\", parse_dates=True)\n",
    "\n",
    "# Set up time column\n",
    "time = df_train['Time'] \n",
    "\n",
    "# Feature matrix X\n",
    "X = pd.read_csv(\"../../../data/sag_data_train.csv\", index_col=\"Time\", parse_dates=True) "
   ]
  },
  {
   "cell_type": "markdown",
   "metadata": {},
   "source": [
    "We will start with a basic linear regression to test if it does better than the baseline."
   ]
  },
  {
   "cell_type": "code",
   "execution_count": 79,
   "metadata": {},
   "outputs": [
    {
     "data": {
      "text/html": [
       "<div>\n",
       "<style scoped>\n",
       "    .dataframe tbody tr th:only-of-type {\n",
       "        vertical-align: middle;\n",
       "    }\n",
       "\n",
       "    .dataframe tbody tr th {\n",
       "        vertical-align: top;\n",
       "    }\n",
       "\n",
       "    .dataframe thead th {\n",
       "        text-align: right;\n",
       "    }\n",
       "</style>\n",
       "<table border=\"1\" class=\"dataframe\">\n",
       "  <thead>\n",
       "    <tr style=\"text-align: right;\">\n",
       "      <th></th>\n",
       "      <th>Future Bearing Pressure</th>\n",
       "      <th>Future Power Draw</th>\n",
       "    </tr>\n",
       "    <tr>\n",
       "      <th>Time</th>\n",
       "      <th></th>\n",
       "      <th></th>\n",
       "    </tr>\n",
       "  </thead>\n",
       "  <tbody>\n",
       "    <tr>\n",
       "      <th>2015-09-15 00:10:00</th>\n",
       "      <td>5487.269091</td>\n",
       "      <td>11.691652</td>\n",
       "    </tr>\n",
       "    <tr>\n",
       "      <th>2015-09-15 00:11:00</th>\n",
       "      <td>5480.270457</td>\n",
       "      <td>11.673803</td>\n",
       "    </tr>\n",
       "    <tr>\n",
       "      <th>2015-09-15 00:12:00</th>\n",
       "      <td>5483.381183</td>\n",
       "      <td>11.489922</td>\n",
       "    </tr>\n",
       "    <tr>\n",
       "      <th>2015-09-15 00:13:00</th>\n",
       "      <td>5487.186353</td>\n",
       "      <td>11.604724</td>\n",
       "    </tr>\n",
       "    <tr>\n",
       "      <th>2015-09-15 00:14:00</th>\n",
       "      <td>5453.889300</td>\n",
       "      <td>11.784436</td>\n",
       "    </tr>\n",
       "    <tr>\n",
       "      <th>...</th>\n",
       "      <td>...</td>\n",
       "      <td>...</td>\n",
       "    </tr>\n",
       "    <tr>\n",
       "      <th>2015-12-19 23:56:00</th>\n",
       "      <td>5311.644590</td>\n",
       "      <td>13.595722</td>\n",
       "    </tr>\n",
       "    <tr>\n",
       "      <th>2015-12-19 23:57:00</th>\n",
       "      <td>5330.085622</td>\n",
       "      <td>13.352943</td>\n",
       "    </tr>\n",
       "    <tr>\n",
       "      <th>2015-12-19 23:58:00</th>\n",
       "      <td>5300.893807</td>\n",
       "      <td>12.989011</td>\n",
       "    </tr>\n",
       "    <tr>\n",
       "      <th>2015-12-19 23:59:00</th>\n",
       "      <td>5319.902014</td>\n",
       "      <td>13.330749</td>\n",
       "    </tr>\n",
       "    <tr>\n",
       "      <th>2015-12-20 00:00:00</th>\n",
       "      <td>5331.208153</td>\n",
       "      <td>13.496682</td>\n",
       "    </tr>\n",
       "  </tbody>\n",
       "</table>\n",
       "<p>138231 rows × 2 columns</p>\n",
       "</div>"
      ],
      "text/plain": [
       "                     Future Bearing Pressure  Future Power Draw\n",
       "Time                                                           \n",
       "2015-09-15 00:10:00              5487.269091          11.691652\n",
       "2015-09-15 00:11:00              5480.270457          11.673803\n",
       "2015-09-15 00:12:00              5483.381183          11.489922\n",
       "2015-09-15 00:13:00              5487.186353          11.604724\n",
       "2015-09-15 00:14:00              5453.889300          11.784436\n",
       "...                                      ...                ...\n",
       "2015-12-19 23:56:00              5311.644590          13.595722\n",
       "2015-12-19 23:57:00              5330.085622          13.352943\n",
       "2015-12-19 23:58:00              5300.893807          12.989011\n",
       "2015-12-19 23:59:00              5319.902014          13.330749\n",
       "2015-12-20 00:00:00              5331.208153          13.496682\n",
       "\n",
       "[138231 rows x 2 columns]"
      ]
     },
     "execution_count": 79,
     "metadata": {},
     "output_type": "execute_result"
    }
   ],
   "source": [
    "from sklearn.linear_model import LinearRegression\n",
    "\n",
    "# We want to remove the first five rows of both dataframes since they don't have target values\n",
    "y_lr = y_lr.drop(y_lr.index[range(5)])\n",
    "X_lr = X.drop(X.index[range(5)])\n",
    "\n",
    "y_lr\n",
    "\n",
    "# deprecated means of aligning data columns after removing all data rows with NAN values\n",
    "## Match matrix lengths by indicies.\n",
    "#for X_index in X.index:\n",
    "#    index_exists_in_both = False\n",
    "#    for y_index in y.index:\n",
    "#        if y_index == X_index:\n",
    "#            index_exists_in_both = True\n",
    "#        \n",
    "#    print(X_index, X.index[X_index])\n",
    "#    \n",
    "#    if index_exists_in_both == False:\n",
    "#        y.drop(X_index)\n",
    "#        X.drop(X_index)"
   ]
  },
  {
   "cell_type": "markdown",
   "metadata": {},
   "source": [
    "Now we want to set up a validation method for optimizing our model.\n",
    "\n",
    "In order to do this, we will split all of our data into 30 minute segments (on the assumption that longer than that won't be a relevent for the prediction)."
   ]
  },
  {
   "cell_type": "code",
   "execution_count": 80,
   "metadata": {
    "scrolled": false
   },
   "outputs": [
    {
     "ename": "AttributeError",
     "evalue": "'list' object has no attribute 'head'",
     "output_type": "error",
     "traceback": [
      "\u001b[1;31m---------------------------------------------------------------------------\u001b[0m",
      "\u001b[1;31mAttributeError\u001b[0m                            Traceback (most recent call last)",
      "\u001b[1;32m<ipython-input-80-751b2c43bc84>\u001b[0m in \u001b[0;36m<module>\u001b[1;34m\u001b[0m\n\u001b[0;32m     29\u001b[0m         \u001b[1;31m#score.append([t, lr_bearing_pressure.score(X_test, y_test['Future Bearing Pressure']), lr_power_draw.score(X_test, y_test['Future Power Draw'])])\u001b[0m\u001b[1;33m\u001b[0m\u001b[1;33m\u001b[0m\u001b[1;33m\u001b[0m\u001b[0m\n\u001b[0;32m     30\u001b[0m \u001b[1;33m\u001b[0m\u001b[0m\n\u001b[1;32m---> 31\u001b[1;33m \u001b[0mdisplay\u001b[0m\u001b[1;33m(\u001b[0m\u001b[0mscore\u001b[0m\u001b[1;33m.\u001b[0m\u001b[0mhead\u001b[0m\u001b[1;33m(\u001b[0m\u001b[1;33m)\u001b[0m\u001b[1;33m,\u001b[0m\u001b[0mscore\u001b[0m\u001b[1;33m.\u001b[0m\u001b[0mtail\u001b[0m\u001b[1;33m(\u001b[0m\u001b[1;33m)\u001b[0m\u001b[1;33m)\u001b[0m\u001b[1;33m\u001b[0m\u001b[1;33m\u001b[0m\u001b[0m\n\u001b[0m",
      "\u001b[1;31mAttributeError\u001b[0m: 'list' object has no attribute 'head'"
     ]
    }
   ],
   "source": [
    "from sklearn.model_selection import TimeSeriesSplit # for time series model validation\n",
    "\n",
    "tscv = TimeSeriesSplit(n_splits=5) \n",
    "score = []\n",
    "\n",
    "# Large quantity of data means that losing one set from rounding is likely inconsequential.\n",
    "for t in range(round(X_lr.shape[0]/30)): # half hour intervals since each interval is 1 minute\n",
    "    sample_X = X_lr.reset_index(drop=True).iloc[t*30:(t+1)*30]\n",
    "    sample_y = y_lr.reset_index(drop=True).iloc[t*30:(t+1)*30]\n",
    "    split_n = 1\n",
    "\n",
    "    for train_index, test_index in tscv.split(sample_X): # split data for validation\n",
    "        \n",
    "        X_train, X_test = sample_X.iloc[train_index], sample_X.iloc[test_index]\n",
    "        y_train, y_test = sample_y.iloc[train_index], sample_y.iloc[test_index]  \n",
    "        \n",
    "        # Here, in case of a NAN value being present, we replace these NAN values with the set mean value. This is done here to prevent 'information leakage' between sets.\n",
    "        # If there are 5 consecutive NAN values though there will be a problem. For this data set we know this is impossible though.\n",
    "        y_train = y_train.fillna(y_train.mean())\n",
    "        X_train = X_train.fillna(X_train.mean())\n",
    "        \n",
    "        lr_sample = LinearRegression(fit_intercept=False, n_jobs=-1).fit(X_train, y_train)\n",
    "        score.append([t, split_n, lr_sample.score(X_test, y_test)])\n",
    "        split_n += 1\n",
    "        \n",
    "        ## Here we do two differenct linear regressions for each target variable\n",
    "        #lr_bearing_pressure = LinearRegression(fit_intercept=False, n_jobs=-1).fit(X_train, y_train['Future Bearing Pressure'])\n",
    "        #lr_power_draw = LinearRegression(fit_intercept=False, n_jobs=-1).fit(X_train, y_train['Future Power Draw'])\n",
    "        #score.append([t, lr_bearing_pressure.score(X_test, y_test['Future Bearing Pressure']), lr_power_draw.score(X_test, y_test['Future Power Draw'])])\n",
    "\n",
    "display(score)\n"
   ]
  },
  {
   "cell_type": "markdown",
   "metadata": {},
   "source": [
    "At first glance, the model doesn't do well at all, to confirm:"
   ]
  },
  {
   "cell_type": "code",
   "execution_count": 83,
   "metadata": {},
   "outputs": [
    {
     "data": {
      "text/html": [
       "<div>\n",
       "<style scoped>\n",
       "    .dataframe tbody tr th:only-of-type {\n",
       "        vertical-align: middle;\n",
       "    }\n",
       "\n",
       "    .dataframe tbody tr th {\n",
       "        vertical-align: top;\n",
       "    }\n",
       "\n",
       "    .dataframe thead th {\n",
       "        text-align: right;\n",
       "    }\n",
       "</style>\n",
       "<table border=\"1\" class=\"dataframe\">\n",
       "  <thead>\n",
       "    <tr style=\"text-align: right;\">\n",
       "      <th></th>\n",
       "      <th>30 min. interval no.</th>\n",
       "      <th>R sq. score of model</th>\n",
       "    </tr>\n",
       "    <tr>\n",
       "      <th>Split no.</th>\n",
       "      <th></th>\n",
       "      <th></th>\n",
       "    </tr>\n",
       "  </thead>\n",
       "  <tbody>\n",
       "    <tr>\n",
       "      <th>1</th>\n",
       "      <td>2303.5</td>\n",
       "      <td>-2.669852e+22</td>\n",
       "    </tr>\n",
       "    <tr>\n",
       "      <th>2</th>\n",
       "      <td>2303.5</td>\n",
       "      <td>-4.220212e+14</td>\n",
       "    </tr>\n",
       "    <tr>\n",
       "      <th>3</th>\n",
       "      <td>2303.5</td>\n",
       "      <td>-7.438872e+14</td>\n",
       "    </tr>\n",
       "    <tr>\n",
       "      <th>4</th>\n",
       "      <td>2303.5</td>\n",
       "      <td>-1.117319e+09</td>\n",
       "    </tr>\n",
       "    <tr>\n",
       "      <th>5</th>\n",
       "      <td>2303.5</td>\n",
       "      <td>-4.704272e+14</td>\n",
       "    </tr>\n",
       "  </tbody>\n",
       "</table>\n",
       "</div>"
      ],
      "text/plain": [
       "           30 min. interval no.  R sq. score of model\n",
       "Split no.                                            \n",
       "1                        2303.5         -2.669852e+22\n",
       "2                        2303.5         -4.220212e+14\n",
       "3                        2303.5         -7.438872e+14\n",
       "4                        2303.5         -1.117319e+09\n",
       "5                        2303.5         -4.704272e+14"
      ]
     },
     "execution_count": 83,
     "metadata": {},
     "output_type": "execute_result"
    }
   ],
   "source": [
    "df_score = pd.DataFrame(score, columns=['30 min. interval no.', 'Split no.','R sq. score of model'])\n",
    "\n",
    "\n",
    "df_score.groupby(['Split no.']).mean()"
   ]
  },
  {
   "cell_type": "markdown",
   "metadata": {},
   "source": [
    "For all splits the scores are very negative, this indicates a straight line would do better. We will plot the last model's predictions to see what is happening."
   ]
  },
  {
   "cell_type": "code",
   "execution_count": 156,
   "metadata": {
    "scrolled": true
   },
   "outputs": [
    {
     "data": {
      "text/html": [
       "<div>\n",
       "<style scoped>\n",
       "    .dataframe tbody tr th:only-of-type {\n",
       "        vertical-align: middle;\n",
       "    }\n",
       "\n",
       "    .dataframe tbody tr th {\n",
       "        vertical-align: top;\n",
       "    }\n",
       "\n",
       "    .dataframe thead th {\n",
       "        text-align: right;\n",
       "    }\n",
       "</style>\n",
       "<table border=\"1\" class=\"dataframe\">\n",
       "  <thead>\n",
       "    <tr style=\"text-align: right;\">\n",
       "      <th></th>\n",
       "      <th>Predicted Bearing Pressure</th>\n",
       "      <th>Predicted Power Draw</th>\n",
       "    </tr>\n",
       "  </thead>\n",
       "  <tbody>\n",
       "    <tr>\n",
       "      <th>138228</th>\n",
       "      <td>5300.261899</td>\n",
       "      <td>13.492852</td>\n",
       "    </tr>\n",
       "    <tr>\n",
       "      <th>138229</th>\n",
       "      <td>5291.085530</td>\n",
       "      <td>13.343488</td>\n",
       "    </tr>\n",
       "    <tr>\n",
       "      <th>138230</th>\n",
       "      <td>5309.158629</td>\n",
       "      <td>13.007053</td>\n",
       "    </tr>\n",
       "  </tbody>\n",
       "</table>\n",
       "</div>"
      ],
      "text/plain": [
       "        Predicted Bearing Pressure  Predicted Power Draw\n",
       "138228                 5300.261899             13.492852\n",
       "138229                 5291.085530             13.343488\n",
       "138230                 5309.158629             13.007053"
      ]
     },
     "metadata": {},
     "output_type": "display_data"
    },
    {
     "data": {
      "text/html": [
       "<div>\n",
       "<style scoped>\n",
       "    .dataframe tbody tr th:only-of-type {\n",
       "        vertical-align: middle;\n",
       "    }\n",
       "\n",
       "    .dataframe tbody tr th {\n",
       "        vertical-align: top;\n",
       "    }\n",
       "\n",
       "    .dataframe thead th {\n",
       "        text-align: right;\n",
       "    }\n",
       "</style>\n",
       "<table border=\"1\" class=\"dataframe\">\n",
       "  <thead>\n",
       "    <tr style=\"text-align: right;\">\n",
       "      <th></th>\n",
       "      <th>Future Bearing Pressure</th>\n",
       "      <th>Future Power Draw</th>\n",
       "      <th>Time (minutes)</th>\n",
       "    </tr>\n",
       "  </thead>\n",
       "  <tbody>\n",
       "    <tr>\n",
       "      <th>138228</th>\n",
       "      <td>5300.893807</td>\n",
       "      <td>12.989011</td>\n",
       "      <td>NaN</td>\n",
       "    </tr>\n",
       "    <tr>\n",
       "      <th>138229</th>\n",
       "      <td>5319.902014</td>\n",
       "      <td>13.330749</td>\n",
       "      <td>NaN</td>\n",
       "    </tr>\n",
       "    <tr>\n",
       "      <th>138230</th>\n",
       "      <td>5331.208153</td>\n",
       "      <td>13.496682</td>\n",
       "      <td>NaN</td>\n",
       "    </tr>\n",
       "  </tbody>\n",
       "</table>\n",
       "</div>"
      ],
      "text/plain": [
       "        Future Bearing Pressure  Future Power Draw  Time (minutes)\n",
       "138228              5300.893807          12.989011             NaN\n",
       "138229              5319.902014          13.330749             NaN\n",
       "138230              5331.208153          13.496682             NaN"
      ]
     },
     "metadata": {},
     "output_type": "display_data"
    },
    {
     "data": {
      "image/png": "[encoded data removed]",
      "text/plain": [
       "<Figure size 1296x360 with 2 Axes>"
      ]
     },
     "metadata": {
      "needs_background": "light"
     },
     "output_type": "display_data"
    }
   ],
   "source": [
    "%matplotlib inline\n",
    "import matplotlib.pyplot as plt\n",
    "\n",
    "example_actual_values = y_test\n",
    "example_predicted_values = pd.DataFrame(lr_sample.predict(X_test), columns=['Predicted Bearing Pressure','Predicted Power Draw'], index=[example_actual_values.index])\n",
    "\n",
    "BP_comparison_df = pd.DataFrame()\n",
    "BP_comparison_df['Predicted Bearing Pressure'] = example_predicted_values['Predicted Bearing Pressure']\n",
    "BP_comparison_df['Future Bearing Pressure'] = example_actual_values['Future Bearing Pressure']\n",
    "\n",
    "\n",
    "PD_comparison_df = pd.DataFrame()\n",
    "PD_comparison_df['Predicted Power Draw'] = example_predicted_values['Predicted Power Draw']\n",
    "PD_comparison_df['Future Power Draw'] = example_actual_values['Future Power Draw']\n",
    "\n",
    "\n",
    "fig, axes = plt.subplots(ncols=2)\n",
    "BP_comparison_df.plot(ax=axes[0]).set_ylim(5250,5350); axes[0].set_title('Bearing Pressure')\n",
    "PD_comparison_df.plot(ax=axes[1], figsize=(18,5)).set_ylim(12,14); axes[1].set_title('Power Draw')\n",
    "                                                                \n",
    "display(example_predicted_values, example_actual_values)\n",
    "\n",
    "\n",
    "#display(test_lr.predict(X_test), y_test)\n",
    "#lr_bearing_pressure.predict(X_test, y_test['Future Bearing Pressure'])\n",
    "#lr_power_draw.predict(X_test, y_test['Future Power Draw'])\n",
    "#print(X_test,'this was x_test and this is Y_test:\\n', y_test['Future Power Draw'], 'bearing pressure \\n',X_test, y_test['Future Bearing Pressure'])\n"
   ]
  },
  {
   "cell_type": "markdown",
   "metadata": {},
   "source": []
  },
  {
   "cell_type": "markdown",
   "metadata": {},
   "source": [
    "Moving on, we'll move on to the most likely candidate for an accurate prediction out of those mentioned, the RNN. We will use an LSTM forecast model."
   ]
  },
  {
   "cell_type": "code",
   "execution_count": null,
   "metadata": {},
   "outputs": [],
   "source": [
    "from sklearn.preprocessing import LabelEncoder\n",
    "from sklearn.preprocessing import MinMaxScaler\n",
    "\n",
    "# Load data into numpy array and ensure all data is float.\n",
    "values = X.astype('float32')\n",
    "# normalize features\n",
    "scaler = MinMaxScaler(feature_range=(0, 1))\n",
    "scaled = scaler.fit_transform(values)\n",
    "# frame as supervised learning\n",
    "\n",
    "\n",
    "\n",
    "\n",
    "tscv = TimeSeriesSplit(n_splits=5)\n",
    "score = []\n",
    "\n",
    "\n",
    "# Split data into several independent problems.\n",
    "for t in range(round(X.shape[0]/30)): # half hour intervals since each interval is 1 minute\n",
    "    # Format into supervised format\n",
    "    sample_X = X.reset_index(drop=True).iloc[t*30:(t+1)*30-5]\n",
    "    sample_y = X.reset_index(drop=True).iloc[t*30:(t+1)*30]\n",
    "\n",
    "    for train_index, test_index in tscv.split(sample_X): # split data for validation\n",
    "        # Here, in case of a NAN value being present, we replace these NAN values with the set mean value. This is done here to prevent 'information leakage' between sets.\n",
    "        # If there are 5 consecutive NAN values though there will be a problem. For this data set we know this is impossible though.\n",
    "        y = y.fillna(y.mean())\n",
    "        X = X.fillna(X.mean())\n",
    "        \n",
    "        X_train, X_test = sample_X.iloc[train_index], sample_X.iloc[test_index]\n",
    "        y_train, y_test = sample_y.iloc[train_index], sample_y.iloc[test_index]  \n",
    "        \n",
    "        # Here we do two differenct linear regressions for each target variable\n",
    "        lr_bearing_pressure = LinearRegression(fit_intercept=False, n_jobs=-1).fit(X_train, y_train['Future Bearing Pressure'])\n",
    "        lr_power_draw = LinearRegression(fit_intercept=False, n_jobs=-1).fit(X_train, y_train['Future Power Draw'])\n",
    "        score.append([t, lr_bearing_pressure.score(X_test, y_test['Future Bearing Pressure']), lr_power_draw.score(X_test, y_test['Future Power Draw'])])\n",
    "\n",
    "display(score.head(),score.tail())\n",
    "a"
   ]
  },
  {
   "cell_type": "markdown",
   "metadata": {},
   "source": [
    "Now the test data set is loaded in for testing and error analysis."
   ]
  },
  {
   "cell_type": "code",
   "execution_count": null,
   "metadata": {},
   "outputs": [],
   "source": [
    "df_test = pd.read_csv(\"../../../data/sag_data_test.csv\", index_col=\"Time\", parse_dates=True)\n",
    "\n",
    "X_baseline_test =\n",
    "y_baseline_test['Future Bearing Pressure'] = X['Bearing Pressure (kPa)'].shift(periods=5)\n",
    "y_baseline_test['Future Power Draw'] = X['Power Draw (MW)'].shift(periods=5)"
   ]
  }
 ],
 "metadata": {
  "kernelspec": {
   "display_name": "Python 3",
   "language": "python",
   "name": "python3"
  },
  "language_info": {
   "codemirror_mode": {
    "name": "ipython",
    "version": 3
   },
   "file_extension": ".py",
   "mimetype": "text/x-python",
   "name": "python",
   "nbconvert_exporter": "python",
   "pygments_lexer": "ipython3",
   "version": "3.8.5"
  }
 },
 "nbformat": 4,
 "nbformat_minor": 2
}
